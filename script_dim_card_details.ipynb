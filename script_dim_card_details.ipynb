{
 "cells": [
  {
   "cell_type": "code",
   "execution_count": null,
   "metadata": {},
   "outputs": [],
   "source": []
  },
  {
   "attachments": {},
   "cell_type": "markdown",
   "metadata": {},
   "source": [
    "Data Cleaning"
   ]
  },
  {
   "cell_type": "code",
   "execution_count": 1,
   "metadata": {},
   "outputs": [],
   "source": [
    "def has_numbers(inputString):\n",
    "    return any(char.isdigit() for char in inputString)\n",
    "\n",
    "\n",
    "\n",
    "import datetime\n",
    "def validate(date_text):\n",
    "        try:\n",
    "            if datetime.date.fromisoformat(date_text):\n",
    "                  return True\n",
    "        except ValueError:\n",
    "              return date_text\n",
    "#%%\n",
    "class DataCleaning():\n",
    "    def __init__(self,dataframe):\n",
    "        self.dataframe = dataframe\n",
    "\n",
    "\n",
    "    def clean_user_data(self):\n",
    "        clean_1_no_null = self.dataframe[self.dataframe.country_code != 'NULL']\n",
    "        messy_first_names = []\n",
    "        for item in clean_1_no_null.first_name:\n",
    "            if has_numbers(item):\n",
    "                messy_first_names.append(item)\n",
    "        clean_2_users = clean_1_no_null[~clean_1_no_null.first_name.isin(messy_first_names)]\n",
    "        clean_3_country_code = clean_2_users.replace('GGB','GB')\n",
    "        cleaned_data = clean_3_country_code\n",
    "        return cleaned_data\n",
    "\n",
    "    \n",
    "    def clean_card_data(self):\n",
    "        remove_null = self.dataframe[self.dataframe.card_number != 'NULL']\n",
    "        date_errors = []\n",
    "        for item in remove_null.expiry_date:\n",
    "            if item.isalpha():\n",
    "                date_errors.append(item)\n",
    "        remove_date_error = remove_null.copy()\n",
    "\n",
    "        for item in date_errors:\n",
    "            remove_date_error.drop(remove_date_error.loc[remove_date_error['expiry_date']==item].index, inplace=True)\n",
    "        date_format_errors = []\n",
    "        for item in self.dataframe.date_payment_confirmed:\n",
    "             if validate(item):\n",
    "                  pass\n",
    "             else:\n",
    "                  date_format_errors.append(item)\n",
    "\n",
    "        clean_date_format = remove_date_error.copy()\n",
    "        for item in date_format_errors:\n",
    "             clean_date_format.drop(clean_date_format.loc[clean_date_format['date_payment_confirmed']==item].index, inplace=True)\n",
    "\n",
    "        return clean_date_format"
   ]
  },
  {
   "attachments": {},
   "cell_type": "markdown",
   "metadata": {},
   "source": [
    "Data Extractor"
   ]
  },
  {
   "cell_type": "code",
   "execution_count": 12,
   "metadata": {},
   "outputs": [],
   "source": [
    "import pandas as pd\n",
    "import tabula as tb\n",
    "\n",
    "\n",
    "\n",
    "\n",
    "class DataExtractor():\n",
    "    def __init__(self, database_connector_instance = None, table_name = None):\n",
    "        self.database_connector_instance = database_connector_instance\n",
    "        self.table_name = table_name\n",
    "\n",
    "    def read_df_tables(self):\n",
    "        table_list = self.database_connector_instance.list_db_tables()\n",
    "        if self.table_name in table_list:\n",
    "            table = pd.read_sql_table(self.table_name, self.database_connector_instance.init_db_engine())\n",
    "            return table\n",
    "        else:\n",
    "            return 'Table not in Database'\n",
    "\n",
    "\n",
    "    def retrieve_pdf_data(self,link):\n",
    "        pdf_data = tb.read_pdf(link,pages = 'all')\n",
    "        df_pdf = pd.concat(pdf_data)\n",
    "        return df_pdf"
   ]
  },
  {
   "attachments": {},
   "cell_type": "markdown",
   "metadata": {},
   "source": [
    "Data Utils"
   ]
  },
  {
   "cell_type": "code",
   "execution_count": 5,
   "metadata": {},
   "outputs": [],
   "source": [
    "\n",
    "\n",
    "\n",
    "\n",
    "import yaml\n",
    "from yaml.loader import SafeLoader\n",
    "from sqlalchemy import create_engine, inspect\n",
    "\n",
    "\n",
    "\n",
    "\n",
    "\n",
    "class DatabaseConnector():\n",
    "    def __init__(self,file_name = None):\n",
    "        self.file_name = file_name\n",
    "\n",
    "    def read_db_creds(self):\n",
    "        with open(self.file_name) as f:\n",
    "            data = yaml.load(f, Loader=SafeLoader)\n",
    "            return data\n",
    "\n",
    "    def init_db_engine(self):\n",
    "        data_2 = self.read_db_creds()\n",
    "        engine = create_engine(f\"postgresql+psycopg2://{data_2['RDS_USER']}:{data_2['RDS_PASSWORD']}@{data_2['RDS_HOST']}:{data_2['RDS_PORT']}/{data_2['RDS_DATABASE']}\")\n",
    "        return engine\n",
    "\n",
    "    def list_db_tables(self):\n",
    "        inspector = inspect(self.init_db_engine())\n",
    "        return inspector.get_table_names()\n",
    "\n",
    "    def upload_to_db(self,dataframe,table_name):\n",
    "        DATABASE_TYPE = 'postgresql'\n",
    "        DBAPI = 'psycopg2'\n",
    "        HOST = 'localhost'\n",
    "        USER = 'postgres'\n",
    "        PASSWORD = 'P0037979'\n",
    "        DATABASE = 'Sales_Data'\n",
    "        PORT = 5432\n",
    "        engine_2 = create_engine(f\"{DATABASE_TYPE}+{DBAPI}://{USER}:{PASSWORD}@{HOST}:{PORT}/{DATABASE}\")\n",
    "        dataframe.to_sql(table_name,engine_2,if_exists = 'replace')\n",
    "\n",
    "\n"
   ]
  },
  {
   "cell_type": "code",
   "execution_count": null,
   "metadata": {},
   "outputs": [],
   "source": []
  },
  {
   "attachments": {},
   "cell_type": "markdown",
   "metadata": {},
   "source": [
    "create connection"
   ]
  },
  {
   "cell_type": "code",
   "execution_count": 6,
   "metadata": {},
   "outputs": [],
   "source": [
    "con = DatabaseConnector()"
   ]
  },
  {
   "attachments": {},
   "cell_type": "markdown",
   "metadata": {},
   "source": [
    "extract data from pdf"
   ]
  },
  {
   "cell_type": "code",
   "execution_count": 14,
   "metadata": {},
   "outputs": [
    {
     "data": {
      "text/html": [
       "<div>\n",
       "<style scoped>\n",
       "    .dataframe tbody tr th:only-of-type {\n",
       "        vertical-align: middle;\n",
       "    }\n",
       "\n",
       "    .dataframe tbody tr th {\n",
       "        vertical-align: top;\n",
       "    }\n",
       "\n",
       "    .dataframe thead th {\n",
       "        text-align: right;\n",
       "    }\n",
       "</style>\n",
       "<table border=\"1\" class=\"dataframe\">\n",
       "  <thead>\n",
       "    <tr style=\"text-align: right;\">\n",
       "      <th></th>\n",
       "      <th>card_number</th>\n",
       "      <th>expiry_date</th>\n",
       "      <th>card_provider</th>\n",
       "      <th>date_payment_confirmed</th>\n",
       "    </tr>\n",
       "  </thead>\n",
       "  <tbody>\n",
       "    <tr>\n",
       "      <th>0</th>\n",
       "      <td>30060773296197</td>\n",
       "      <td>09/26</td>\n",
       "      <td>Diners Club / Carte Blanche</td>\n",
       "      <td>2015-11-25</td>\n",
       "    </tr>\n",
       "    <tr>\n",
       "      <th>1</th>\n",
       "      <td>349624180933183</td>\n",
       "      <td>10/23</td>\n",
       "      <td>American Express</td>\n",
       "      <td>2001-06-18</td>\n",
       "    </tr>\n",
       "    <tr>\n",
       "      <th>2</th>\n",
       "      <td>3529023891650490</td>\n",
       "      <td>06/23</td>\n",
       "      <td>JCB 16 digit</td>\n",
       "      <td>2000-12-26</td>\n",
       "    </tr>\n",
       "    <tr>\n",
       "      <th>3</th>\n",
       "      <td>213142929492281</td>\n",
       "      <td>09/27</td>\n",
       "      <td>JCB 15 digit</td>\n",
       "      <td>2011-02-12</td>\n",
       "    </tr>\n",
       "    <tr>\n",
       "      <th>4</th>\n",
       "      <td>502067329974</td>\n",
       "      <td>10/25</td>\n",
       "      <td>Maestro</td>\n",
       "      <td>1997-03-13</td>\n",
       "    </tr>\n",
       "    <tr>\n",
       "      <th>...</th>\n",
       "      <td>...</td>\n",
       "      <td>...</td>\n",
       "      <td>...</td>\n",
       "      <td>...</td>\n",
       "    </tr>\n",
       "    <tr>\n",
       "      <th>4</th>\n",
       "      <td>180036921556789</td>\n",
       "      <td>12/28</td>\n",
       "      <td>JCB 15 digit</td>\n",
       "      <td>1997-06-06</td>\n",
       "    </tr>\n",
       "    <tr>\n",
       "      <th>5</th>\n",
       "      <td>180018030448512</td>\n",
       "      <td>11/24</td>\n",
       "      <td>JCB 15 digit</td>\n",
       "      <td>2004-06-16</td>\n",
       "    </tr>\n",
       "    <tr>\n",
       "      <th>6</th>\n",
       "      <td>3569953313547220</td>\n",
       "      <td>04/24</td>\n",
       "      <td>JCB 16 digit</td>\n",
       "      <td>2020-02-05</td>\n",
       "    </tr>\n",
       "    <tr>\n",
       "      <th>7</th>\n",
       "      <td>4444521712606810</td>\n",
       "      <td>06/27</td>\n",
       "      <td>VISA 16 digit</td>\n",
       "      <td>2008-06-16</td>\n",
       "    </tr>\n",
       "    <tr>\n",
       "      <th>8</th>\n",
       "      <td>372031786522735</td>\n",
       "      <td>02/30</td>\n",
       "      <td>American Express</td>\n",
       "      <td>2009-02-04</td>\n",
       "    </tr>\n",
       "  </tbody>\n",
       "</table>\n",
       "<p>15309 rows × 4 columns</p>\n",
       "</div>"
      ],
      "text/plain": [
       "         card_number expiry_date                card_provider  \\\n",
       "0     30060773296197       09/26  Diners Club / Carte Blanche   \n",
       "1    349624180933183       10/23             American Express   \n",
       "2   3529023891650490       06/23                 JCB 16 digit   \n",
       "3    213142929492281       09/27                 JCB 15 digit   \n",
       "4       502067329974       10/25                      Maestro   \n",
       "..               ...         ...                          ...   \n",
       "4    180036921556789       12/28                 JCB 15 digit   \n",
       "5    180018030448512       11/24                 JCB 15 digit   \n",
       "6   3569953313547220       04/24                 JCB 16 digit   \n",
       "7   4444521712606810       06/27                VISA 16 digit   \n",
       "8    372031786522735       02/30             American Express   \n",
       "\n",
       "   date_payment_confirmed  \n",
       "0              2015-11-25  \n",
       "1              2001-06-18  \n",
       "2              2000-12-26  \n",
       "3              2011-02-12  \n",
       "4              1997-03-13  \n",
       "..                    ...  \n",
       "4              1997-06-06  \n",
       "5              2004-06-16  \n",
       "6              2020-02-05  \n",
       "7              2008-06-16  \n",
       "8              2009-02-04  \n",
       "\n",
       "[15309 rows x 4 columns]"
      ]
     },
     "execution_count": 14,
     "metadata": {},
     "output_type": "execute_result"
    }
   ],
   "source": [
    "ext = DataExtractor()\n",
    "ext.retrieve_pdf_data('https://data-handling-public.s3.eu-west-1.amazonaws.com/card_details.pdf')"
   ]
  },
  {
   "cell_type": "code",
   "execution_count": 15,
   "metadata": {},
   "outputs": [],
   "source": [
    "pdf_data = ext.retrieve_pdf_data('https://data-handling-public.s3.eu-west-1.amazonaws.com/card_details.pdf')"
   ]
  },
  {
   "cell_type": "code",
   "execution_count": 17,
   "metadata": {},
   "outputs": [],
   "source": [
    "clean = DataCleaning(pdf_data)"
   ]
  },
  {
   "cell_type": "code",
   "execution_count": 18,
   "metadata": {},
   "outputs": [],
   "source": [
    "clean_data = clean.clean_card_data()"
   ]
  },
  {
   "cell_type": "code",
   "execution_count": 19,
   "metadata": {},
   "outputs": [
    {
     "data": {
      "text/html": [
       "<div>\n",
       "<style scoped>\n",
       "    .dataframe tbody tr th:only-of-type {\n",
       "        vertical-align: middle;\n",
       "    }\n",
       "\n",
       "    .dataframe tbody tr th {\n",
       "        vertical-align: top;\n",
       "    }\n",
       "\n",
       "    .dataframe thead th {\n",
       "        text-align: right;\n",
       "    }\n",
       "</style>\n",
       "<table border=\"1\" class=\"dataframe\">\n",
       "  <thead>\n",
       "    <tr style=\"text-align: right;\">\n",
       "      <th></th>\n",
       "      <th>card_number</th>\n",
       "      <th>expiry_date</th>\n",
       "      <th>card_provider</th>\n",
       "      <th>date_payment_confirmed</th>\n",
       "    </tr>\n",
       "  </thead>\n",
       "  <tbody>\n",
       "    <tr>\n",
       "      <th>0</th>\n",
       "      <td>30060773296197</td>\n",
       "      <td>09/26</td>\n",
       "      <td>Diners Club / Carte Blanche</td>\n",
       "      <td>2015-11-25</td>\n",
       "    </tr>\n",
       "    <tr>\n",
       "      <th>1</th>\n",
       "      <td>349624180933183</td>\n",
       "      <td>10/23</td>\n",
       "      <td>American Express</td>\n",
       "      <td>2001-06-18</td>\n",
       "    </tr>\n",
       "    <tr>\n",
       "      <th>2</th>\n",
       "      <td>3529023891650490</td>\n",
       "      <td>06/23</td>\n",
       "      <td>JCB 16 digit</td>\n",
       "      <td>2000-12-26</td>\n",
       "    </tr>\n",
       "    <tr>\n",
       "      <th>3</th>\n",
       "      <td>213142929492281</td>\n",
       "      <td>09/27</td>\n",
       "      <td>JCB 15 digit</td>\n",
       "      <td>2011-02-12</td>\n",
       "    </tr>\n",
       "    <tr>\n",
       "      <th>4</th>\n",
       "      <td>502067329974</td>\n",
       "      <td>10/25</td>\n",
       "      <td>Maestro</td>\n",
       "      <td>1997-03-13</td>\n",
       "    </tr>\n",
       "  </tbody>\n",
       "</table>\n",
       "</div>"
      ],
      "text/plain": [
       "        card_number expiry_date                card_provider  \\\n",
       "0    30060773296197       09/26  Diners Club / Carte Blanche   \n",
       "1   349624180933183       10/23             American Express   \n",
       "2  3529023891650490       06/23                 JCB 16 digit   \n",
       "3   213142929492281       09/27                 JCB 15 digit   \n",
       "4      502067329974       10/25                      Maestro   \n",
       "\n",
       "  date_payment_confirmed  \n",
       "0             2015-11-25  \n",
       "1             2001-06-18  \n",
       "2             2000-12-26  \n",
       "3             2011-02-12  \n",
       "4             1997-03-13  "
      ]
     },
     "execution_count": 19,
     "metadata": {},
     "output_type": "execute_result"
    }
   ],
   "source": [
    "clean_data.head()"
   ]
  },
  {
   "cell_type": "code",
   "execution_count": 20,
   "metadata": {},
   "outputs": [
    {
     "name": "stdout",
     "output_type": "stream",
     "text": [
      "<class 'pandas.core.frame.DataFrame'>\n",
      "Int64Index: 14992 entries, 0 to 8\n",
      "Data columns (total 4 columns):\n",
      " #   Column                  Non-Null Count  Dtype \n",
      "---  ------                  --------------  ----- \n",
      " 0   card_number             14992 non-null  object\n",
      " 1   expiry_date             14992 non-null  object\n",
      " 2   card_provider           14992 non-null  object\n",
      " 3   date_payment_confirmed  14992 non-null  object\n",
      "dtypes: object(4)\n",
      "memory usage: 585.6+ KB\n"
     ]
    }
   ],
   "source": [
    "clean_data.info()"
   ]
  },
  {
   "cell_type": "code",
   "execution_count": 21,
   "metadata": {},
   "outputs": [],
   "source": [
    "con.upload_to_db(clean_data,'dim_card_details')"
   ]
  },
  {
   "cell_type": "code",
   "execution_count": null,
   "metadata": {},
   "outputs": [],
   "source": []
  }
 ],
 "metadata": {
  "kernelspec": {
   "display_name": "base",
   "language": "python",
   "name": "python3"
  },
  "language_info": {
   "codemirror_mode": {
    "name": "ipython",
    "version": 3
   },
   "file_extension": ".py",
   "mimetype": "text/x-python",
   "name": "python",
   "nbconvert_exporter": "python",
   "pygments_lexer": "ipython3",
   "version": "3.9.13"
  },
  "orig_nbformat": 4,
  "vscode": {
   "interpreter": {
    "hash": "e3defab19af5a0260f6235e368424eb7b1fcafeecd893bf36b07ef0f4cb62b71"
   }
  }
 },
 "nbformat": 4,
 "nbformat_minor": 2
}
